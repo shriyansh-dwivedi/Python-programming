{
 "cells": [
  {
   "cell_type": "code",
   "execution_count": 2,
   "id": "ab6d8044-5366-4ad8-b85b-b10544cb24cf",
   "metadata": {},
   "outputs": [
    {
     "name": "stdout",
     "output_type": "stream",
     "text": [
      "Original list: [10, 20, 30, 40, 50]\n",
      "List after interchanging first and last elements: [50, 20, 30, 40, 10]\n"
     ]
    }
   ],
   "source": [
    "# 1.Write a Program to interchange first and last elements in a list\n",
    "\n",
    "Arif_list = [10, 20, 30, 40, 50]\n",
    "\n",
    "print(\"Original list:\", Arif_list)\n",
    "\n",
    "if len(Arif_list) > 1:  # Check if the list has more than one element\n",
    "    Arif_list[0], Arif_list[-1] = Arif_list[-1], Arif_list[0]\n",
    "\n",
    "print(\"List after interchanging first and last elements:\", Arif_list)\n"
   ]
  },
  {
   "cell_type": "code",
   "execution_count": 3,
   "id": "2495442e-5369-4294-9826-7268b64d9678",
   "metadata": {},
   "outputs": [
    {
     "name": "stdout",
     "output_type": "stream",
     "text": [
      "Original list: [10, 20, 30, 40, 50]\n",
      "List after swapping elements at indices 1 and 3 : [10, 40, 30, 20, 50]\n"
     ]
    }
   ],
   "source": [
    "# 2.Program to swap two elements in a list\n",
    "\n",
    "my_list = [10, 20, 30, 40, 50]\n",
    "\n",
    "print(\"Original list:\", my_list)\n",
    "\n",
    "index1 = 1  # Index of the first element (20)\n",
    "index2 = 3  # Index of the second element (40)\n",
    "\n",
    "my_list[index1], my_list[index2] = my_list[index2], my_list[index1]\n",
    "\n",
    "print(\"List after swapping elements at indices\", index1, \"and\", index2, \":\", my_list)\n"
   ]
  },
  {
   "cell_type": "code",
   "execution_count": 4,
   "id": "05845af8-a3ee-4b9d-bbd1-fdbe24dcfd56",
   "metadata": {},
   "outputs": [
    {
     "name": "stdout",
     "output_type": "stream",
     "text": [
      "Original list: ['apple', 'banana', 'cherry', 'date', 'fig']\n",
      "List after swapping elements at indices 0 and 3 : ['date', 'banana', 'cherry', 'apple', 'fig']\n"
     ]
    }
   ],
   "source": [
    "# 3.Swap elements in String list\n",
    "\n",
    "my_string_list = [\"apple\", \"banana\", \"cherry\", \"date\", \"fig\"]\n",
    "\n",
    "print(\"Original list:\", my_string_list)\n",
    "\n",
    "index1 = 0  # Index of the first element (\"apple\")\n",
    "index2 = 3  # Index of the second element (\"date\")\n",
    "\n",
    "my_string_list[index1], my_string_list[index2] = my_string_list[index2], my_string_list[index1]\n",
    "\n",
    "print(\"List after swapping elements at indices\", index1, \"and\", index2, \":\", my_string_list)\n"
   ]
  },
  {
   "cell_type": "code",
   "execution_count": 5,
   "id": "c05ebf4e-7405-4b13-9751-65d147fb0720",
   "metadata": {},
   "outputs": [
    {
     "name": "stdout",
     "output_type": "stream",
     "text": [
      "Length of the list: 5\n",
      "Length of the list: 5\n",
      "Length of the list: 5\n"
     ]
    }
   ],
   "source": [
    "# 4.Ways to find length of list\n",
    "\n",
    "# Method 1: Using len()\n",
    "\n",
    "my_list = [10, 20, 30, 40, 50]\n",
    "\n",
    "my_length = len(my_list)\n",
    "\n",
    "print(\"Length of the list:\", my_length)\n",
    "\n",
    "# Method 2: Using a Loop\n",
    "\n",
    "my_list = [10, 20, 30, 40, 50]\n",
    "\n",
    "my_length = 0\n",
    "for element in my_list:\n",
    "    my_length += 1\n",
    "\n",
    "print(\"Length of the list:\", my_length)\n",
    "\n",
    "# Method 3: Using List Comprehension\n",
    "\n",
    "my_list = [10, 20, 30, 40, 50]\n",
    "\n",
    "my_length = sum(1 for _ in my_list)\n",
    "\n",
    "print(\"Length of the list:\", my_length)\n"
   ]
  },
  {
   "cell_type": "code",
   "execution_count": 6,
   "id": "dbc12bf0-fa9f-485e-b703-09cb072d1f11",
   "metadata": {},
   "outputs": [
    {
     "name": "stdout",
     "output_type": "stream",
     "text": [
      "Maximum of 10 and 20 is: 20\n"
     ]
    }
   ],
   "source": [
    "# 5.Maximum of two numbers in Python\n",
    "\n",
    "num1 = 10\n",
    "num2 = 20\n",
    "\n",
    "max = max(num1, num2)\n",
    "\n",
    "print(\"Maximum of\", num1, \"and\", num2, \"is:\", max)\n"
   ]
  },
  {
   "cell_type": "code",
   "execution_count": 7,
   "id": "b2883fa2-307a-4635-9b1f-a13b98436138",
   "metadata": {},
   "outputs": [
    {
     "name": "stdout",
     "output_type": "stream",
     "text": [
      "Minimum of 15 and 25 is: 15\n"
     ]
    }
   ],
   "source": [
    "# 6.Minimum of two numbers in Python\n",
    "num1 = 15\n",
    "num2 = 25\n",
    "\n",
    "min = min(num1, num2)\n",
    "\n",
    "print(\"Minimum of\", num1, \"and\", num2, \"is:\", min)\n"
   ]
  },
  {
   "cell_type": "code",
   "execution_count": 9,
   "id": "81ba2117-bc0f-409c-8e85-c9afc8d88f18",
   "metadata": {},
   "outputs": [
    {
     "name": "stdout",
     "output_type": "stream",
     "text": [
      "30 exists in the list.\n",
      "30 exists in the list.\n",
      "30 exists in the list.\n"
     ]
    }
   ],
   "source": [
    "# 7.Ways to check if element exists in list\n",
    "\n",
    "# Method 1: Using the in Operator\n",
    "\n",
    "list = [10, 20, 30, 40, 50]\n",
    "\n",
    "element = 30\n",
    "\n",
    "if element in list:\n",
    "    print(element, \"exists in the list.\")\n",
    "else:\n",
    "    print(element, \"does not exist in the list.\")\n",
    "\n",
    "# Method 2: Using list.count()\n",
    "\n",
    "list = [10, 20, 30, 40, 50]\n",
    "\n",
    "element = 30\n",
    "\n",
    "if list.count(element) > 0:\n",
    "    print(element, \"exists in the list.\")\n",
    "else:\n",
    "    print(element, \"does not exist in the list.\")\n",
    "\n",
    "# Method 3: Using a Loop\n",
    "\n",
    "list = [10, 20, 30, 40, 50]\n",
    "\n",
    "element = 30\n",
    "found = False\n",
    "\n",
    "for item in list:\n",
    "    if item == element:\n",
    "        found = True\n",
    "        break\n",
    "\n",
    "if found:\n",
    "    print(element, \"exists in the list.\")\n",
    "else:\n",
    "    print(element, \"does not exist in the list.\")\n"
   ]
  },
  {
   "cell_type": "code",
   "execution_count": 10,
   "id": "f9d4750a-27ec-4f05-876b-c92199111b2e",
   "metadata": {},
   "outputs": [
    {
     "name": "stdout",
     "output_type": "stream",
     "text": [
      "Cleared list: []\n",
      "Cleared list: []\n",
      "Cleared list: []\n",
      "Cleared list: []\n",
      "Cleared list: []\n"
     ]
    }
   ],
   "source": [
    "# 8.Different ways to clear a list in Python\n",
    "\n",
    "# Method 1: Using clear()\n",
    "\n",
    "list = [10, 20, 30, 40, 50]\n",
    "\n",
    "list.clear()\n",
    "\n",
    "print(\"Cleared list:\", list)\n",
    "\n",
    "# Method 2: Using Assignment \n",
    "\n",
    "list = [10, 20, 30, 40, 50]\n",
    "\n",
    "list = []\n",
    "\n",
    "print(\"Cleared list:\", list)\n",
    "\n",
    "# Method 3: Using Slice Assignment\n",
    "\n",
    "list = [10, 20, 30, 40, 50]\n",
    "\n",
    "list[:] = []\n",
    "\n",
    "print(\"Cleared list:\", list)\n",
    "\n",
    "# Method 4: Using del\n",
    "\n",
    "list = [10, 20, 30, 40, 50]\n",
    "\n",
    "del list[:]\n",
    "\n",
    "print(\"Cleared list:\", list)\n",
    "\n",
    "list = [10, 20, 30, 40, 50]\n",
    "\n",
    "while list:\n",
    "   list.pop()\n",
    "\n",
    "print(\"Cleared list:\", list)\n",
    "\n"
   ]
  },
  {
   "cell_type": "code",
   "execution_count": 11,
   "id": "7d3daf5f-12fa-4089-9037-e2d6e11e601d",
   "metadata": {},
   "outputs": [
    {
     "name": "stdout",
     "output_type": "stream",
     "text": [
      "Reversed list: [50, 40, 30, 20, 10]\n"
     ]
    }
   ],
   "source": [
    "# 9.Reversing a List\n",
    "\n",
    "list = [10, 20, 30, 40, 50]\n",
    "\n",
    "list.reverse()\n",
    "\n",
    "print(\"Reversed list:\", list)\n"
   ]
  },
  {
   "cell_type": "code",
   "execution_count": 12,
   "id": "2d192627-7722-40bc-a57d-0be9f10011c0",
   "metadata": {},
   "outputs": [
    {
     "name": "stdout",
     "output_type": "stream",
     "text": [
      "Original list: [10, 20, 30, 40, 50]\n",
      "Cloned list: [10, 20, 30, 40, 50]\n"
     ]
    }
   ],
   "source": [
    "# 10.Cloning or Copying a list\n",
    "\n",
    "list = [10, 20, 30, 40, 50]\n",
    "\n",
    "clone = list.copy()\n",
    "\n",
    "print(\"Original list:\", list)\n",
    "print(\"Cloned list:\", clone)\n"
   ]
  },
  {
   "cell_type": "code",
   "execution_count": 13,
   "id": "797efd16-28a6-4ef7-bb50-ace9ba0ea5bb",
   "metadata": {},
   "outputs": [
    {
     "name": "stdout",
     "output_type": "stream",
     "text": [
      "The element 'apple' appears 3 times in the list.\n"
     ]
    }
   ],
   "source": [
    "# 11.Count occurrences of an element in a list\n",
    "\n",
    "x = ['apple', 'banana', 'apple', 'orange', 'banana', 'apple']\n",
    "\n",
    "element = 'apple'\n",
    "\n",
    "count = x.count(element)\n",
    "\n",
    "print(f\"The element '{element}' appears {count} times in the list.\")\n"
   ]
  },
  {
   "cell_type": "code",
   "execution_count": 14,
   "id": "502cfdea-d1cc-42c3-87a8-1f865ebb6665",
   "metadata": {},
   "outputs": [
    {
     "name": "stdout",
     "output_type": "stream",
     "text": [
      "Sum of the list: 150\n",
      "Average of the list: 30.0\n"
     ]
    }
   ],
   "source": [
    "# 12.Program to find sum and average of List in Python\n",
    "\n",
    "a = [10, 20, 30, 40, 50]\n",
    "\n",
    "sum_of_elements = sum(a)\n",
    "\n",
    "average = sum_of_elements / len(a)\n",
    "\n",
    "print(f\"Sum of the list: {sum_of_elements}\")\n",
    "print(f\"Average of the list: {average}\")\n"
   ]
  },
  {
   "cell_type": "code",
   "execution_count": 28,
   "id": "f5a15a3d-36c4-435b-a9f0-a76c72bf58f2",
   "metadata": {},
   "outputs": [
    {
     "name": "stdout",
     "output_type": "stream",
     "text": [
      "Sum of digits for each number in the list: [6, 9, 13, 17]\n"
     ]
    }
   ],
   "source": [
    "# 13.Sum of number digits in List \n",
    "\n",
    "z = [123, 45, 67, 890]\n",
    "\n",
    "sum_of_digits_list = [sum(int(digit) for digit in str(num)) for num in z]\n",
    "\n",
    "print(f\"Sum of digits for each number in the list: {sum_of_digits_list}\")\n"
   ]
  },
  {
   "cell_type": "code",
   "execution_count": 16,
   "id": "44b944fe-67ad-4308-8014-4c18a8610cbe",
   "metadata": {},
   "outputs": [
    {
     "name": "stdout",
     "output_type": "stream",
     "text": [
      "The product of all numbers in the list: 120\n"
     ]
    }
   ],
   "source": [
    "# 14.Multiply all numbers in the list \n",
    "\n",
    "z = [2, 3, 4, 5]\n",
    "\n",
    "result = 1\n",
    "\n",
    "for num in z:\n",
    "    result *= num\n",
    "\n",
    "print(f\"The product of all numbers in the list: {result}\")\n"
   ]
  },
  {
   "cell_type": "code",
   "execution_count": 29,
   "id": "66038272-fe46-4225-96b4-17632183a6c4",
   "metadata": {},
   "outputs": [
    {
     "ename": "TypeError",
     "evalue": "'int' object is not callable",
     "output_type": "error",
     "traceback": [
      "\u001b[1;31m---------------------------------------------------------------------------\u001b[0m",
      "\u001b[1;31mTypeError\u001b[0m                                 Traceback (most recent call last)",
      "Cell \u001b[1;32mIn[29], line 5\u001b[0m\n\u001b[0;32m      1\u001b[0m \u001b[38;5;66;03m# 15.Program to find smallest number in a list\u001b[39;00m\n\u001b[0;32m      3\u001b[0m z \u001b[38;5;241m=\u001b[39m [\u001b[38;5;241m25\u001b[39m, \u001b[38;5;241m10\u001b[39m, \u001b[38;5;241m45\u001b[39m, \u001b[38;5;241m5\u001b[39m, \u001b[38;5;241m30\u001b[39m]\n\u001b[1;32m----> 5\u001b[0m smallest \u001b[38;5;241m=\u001b[39m \u001b[38;5;28mmin\u001b[39m(z)\n\u001b[0;32m      7\u001b[0m \u001b[38;5;28mprint\u001b[39m(\u001b[38;5;124mf\u001b[39m\u001b[38;5;124m\"\u001b[39m\u001b[38;5;124mThe smallest number in the list is: \u001b[39m\u001b[38;5;132;01m{\u001b[39;00msmallest\u001b[38;5;132;01m}\u001b[39;00m\u001b[38;5;124m\"\u001b[39m)\n",
      "\u001b[1;31mTypeError\u001b[0m: 'int' object is not callable"
     ]
    }
   ],
   "source": [
    "# 15.Program to find smallest number in a list\n",
    "\n",
    "z = [25, 10, 45, 5, 30]\n",
    "\n",
    "smallest = min(z)\n",
    "\n",
    "print(f\"The smallest number in the list is: {smallest}\")\n"
   ]
  },
  {
   "cell_type": "markdown",
   "id": "27c7ffb0-bb14-428c-b102-041cee88277a",
   "metadata": {},
   "source": [
    "## 16.Program to find largest number in a list\n",
    "\n",
    "z = [25, 10, 45, 5, 30]\n",
    "\n",
    "largest = max(z)\n",
    "\n",
    "print(f\"The largest number in the list is: {largest}\")\n",
    "\n"
   ]
  },
  {
   "cell_type": "code",
   "execution_count": 27,
   "id": "225ad478-2422-4445-b45e-626626843286",
   "metadata": {},
   "outputs": [
    {
     "ename": "TypeError",
     "evalue": "'int' object is not callable",
     "output_type": "error",
     "traceback": [
      "\u001b[1;31m---------------------------------------------------------------------------\u001b[0m",
      "\u001b[1;31mTypeError\u001b[0m                                 Traceback (most recent call last)",
      "Cell \u001b[1;32mIn[27], line 5\u001b[0m\n\u001b[0;32m      1\u001b[0m \u001b[38;5;66;03m# 17.Program to find second largest number in a list\u001b[39;00m\n\u001b[0;32m      3\u001b[0m z \u001b[38;5;241m=\u001b[39m [\u001b[38;5;241m25\u001b[39m, \u001b[38;5;241m10\u001b[39m, \u001b[38;5;241m45\u001b[39m, \u001b[38;5;241m5\u001b[39m, \u001b[38;5;241m30\u001b[39m]\n\u001b[1;32m----> 5\u001b[0m z\u001b[38;5;241m.\u001b[39mremove(\u001b[38;5;28mmax\u001b[39m(z))\n\u001b[0;32m      7\u001b[0m second_largest \u001b[38;5;241m=\u001b[39m \u001b[38;5;28mmax\u001b[39m(z)\n\u001b[0;32m      9\u001b[0m \u001b[38;5;28mprint\u001b[39m(\u001b[38;5;124mf\u001b[39m\u001b[38;5;124m\"\u001b[39m\u001b[38;5;124mThe second largest number in the list is: \u001b[39m\u001b[38;5;132;01m{\u001b[39;00msecond_largest\u001b[38;5;132;01m}\u001b[39;00m\u001b[38;5;124m\"\u001b[39m)\n",
      "\u001b[1;31mTypeError\u001b[0m: 'int' object is not callable"
     ]
    }
   ],
   "source": [
    "# 17.Program to find second largest number in a list\n",
    "\n",
    "z = [25, 10, 45, 5, 30]\n",
    "\n",
    "z.remove(max(z))\n",
    "\n",
    "second_largest = max(z)\n",
    "\n",
    "print(f\"The second largest number in the list is: {second_largest}\")"
   ]
  },
  {
   "cell_type": "code",
   "execution_count": 18,
   "id": "cd31a903-f9fb-46e0-b4dc-d0b7382a3140",
   "metadata": {},
   "outputs": [
    {
     "name": "stdout",
     "output_type": "stream",
     "text": [
      "Even numbers in the list: [2, 4, 6]\n"
     ]
    }
   ],
   "source": [
    "# 18.Program to print even numbers in a list\n",
    "\n",
    "Sanchay = [1, 2, 3, 4, 5, 6]\n",
    "\n",
    "even_numbers = [num for num in Sanchay if num % 2 == 0]\n",
    "print(\"Even numbers in the list:\", even_numbers)\n"
   ]
  },
  {
   "cell_type": "code",
   "execution_count": 31,
   "id": "db3a8c8d-27c8-4b14-aefd-9fa42a184ce4",
   "metadata": {},
   "outputs": [
    {
     "name": "stdout",
     "output_type": "stream",
     "text": [
      "Odd numbers in the list: [1, 3, 5]\n"
     ]
    }
   ],
   "source": [
    "# 19.Program to print odd numbers in a List\n",
    "\n",
    "x = [1, 2, 3, 4, 5, 6]\n",
    "\n",
    "odd_numbers = [num for num in x if num % 2 != 0]\n",
    "print(\"Odd numbers in the list:\", odd_numbers)\n"
   ]
  },
  {
   "cell_type": "code",
   "execution_count": 32,
   "id": "39c4d249-3029-4e43-937d-fd5de0a4c919",
   "metadata": {},
   "outputs": [
    {
     "name": "stdout",
     "output_type": "stream",
     "text": [
      "Even numbers in the range: [2, 4, 6, 8, 10]\n"
     ]
    }
   ],
   "source": [
    "# 20.Program to print all even numbers in a range\n",
    "\n",
    "start, end = 1, 10\n",
    "\n",
    "even_numbers = [num for num in range(start, end + 1) if num % 2 == 0]\n",
    "print(\"Even numbers in the range:\", even_numbers)\n"
   ]
  },
  {
   "cell_type": "code",
   "execution_count": 15,
   "id": "6fccaea3-df40-4107-af91-04e293d31fa4",
   "metadata": {},
   "outputs": [
    {
     "name": "stdout",
     "output_type": "stream",
     "text": [
      "Odd numbers in the range: [1, 3, 5, 7, 9]\n"
     ]
    }
   ],
   "source": [
    "# 21.\tProgram to print all odd numbers in a range\n",
    "\n",
    "start, end = 1, 10\n",
    "\n",
    "odd_numbers = [num for num in range(start, end + 1) if num % 2 != 0]\n",
    "print(\"Odd numbers in the range:\", odd_numbers)\n"
   ]
  },
  {
   "cell_type": "code",
   "execution_count": 33,
   "id": "8a919295-8d86-4b51-b00a-c629705bc995",
   "metadata": {},
   "outputs": [
    {
     "name": "stdout",
     "output_type": "stream",
     "text": [
      "Even count: 3, Odd count: 3\n"
     ]
    }
   ],
   "source": [
    "# 22.\tProgram to count Even and Odd numbers in a List\n",
    "\n",
    "l = [1, 2, 3, 4, 5, 6]\n",
    "\n",
    "even_count = len([num for num in l if num % 2 == 0])\n",
    "odd_count = len([num for num in l if num % 2 != 0])\n",
    "\n",
    "print(f\"Even count: {even_count}, Odd count: {odd_count}\")\n"
   ]
  },
  {
   "cell_type": "code",
   "execution_count": 34,
   "id": "d05fc3ab-dd0a-41e3-a8a8-fe521ea6adde",
   "metadata": {},
   "outputs": [
    {
     "name": "stdout",
     "output_type": "stream",
     "text": [
      "Positive numbers in the list: [5, 10]\n"
     ]
    }
   ],
   "source": [
    "# 23.\tProgram to print positive numbers in a list\n",
    "\n",
    "f = [-10, -5, 0, 5, 10]\n",
    "\n",
    "positive_numbers = [num for num in f if num > 0]\n",
    "print(\"Positive numbers in the list:\", positive_numbers)\n"
   ]
  },
  {
   "cell_type": "code",
   "execution_count": 35,
   "id": "a1badf1f-8423-4ff9-ad4d-649437bd292b",
   "metadata": {},
   "outputs": [
    {
     "name": "stdout",
     "output_type": "stream",
     "text": [
      "Negative numbers in the list: [-10, -5]\n"
     ]
    }
   ],
   "source": [
    "# 24.\tProgram to print negative numbers in a list\n",
    "\n",
    "a = [-10, -5, 0, 5, 10]\n",
    "\n",
    "negative_numbers = [num for num in a if num < 0]\n",
    "print(\"Negative numbers in the list:\", negative_numbers)\n"
   ]
  },
  {
   "cell_type": "code",
   "execution_count": 36,
   "id": "94e4c9ed-748f-4d23-bf79-fe0ba213710f",
   "metadata": {},
   "outputs": [
    {
     "name": "stdout",
     "output_type": "stream",
     "text": [
      "Positive numbers in the range: [1, 2, 3, 4, 5]\n"
     ]
    }
   ],
   "source": [
    "# 25.\tProgram to print all positive numbers in a range\n",
    "\n",
    "start, end = -5, 5\n",
    "\n",
    "positive_numbers = [num for num in range(start, end + 1) if num > 0]\n",
    "print(\"Positive numbers in the range:\", positive_numbers)\n"
   ]
  },
  {
   "cell_type": "code",
   "execution_count": 37,
   "id": "cac77025-2be7-40d9-9bde-bf104e2c2c08",
   "metadata": {},
   "outputs": [
    {
     "name": "stdout",
     "output_type": "stream",
     "text": [
      "Negative numbers in the range: [-5, -4, -3, -2, -1]\n"
     ]
    }
   ],
   "source": [
    "# 26.\tProgram to print all negative numbers in a range\n",
    "\n",
    "start, end = -5, 5\n",
    "\n",
    "negative_numbers = [num for num in range(start, end + 1) if num < 0]\n",
    "print(\"Negative numbers in the range:\", negative_numbers)\n"
   ]
  },
  {
   "cell_type": "code",
   "execution_count": 38,
   "id": "aebac20a-7e7f-42a4-8769-5c582c1d45b1",
   "metadata": {},
   "outputs": [
    {
     "name": "stdout",
     "output_type": "stream",
     "text": [
      "Positive count: 2, Negative count: 2\n"
     ]
    }
   ],
   "source": [
    "# 27.\tProgram to count positive and negative numbers in a list\n",
    "\n",
    "b = [-10, -5, 0, 5, 10]\n",
    "\n",
    "positive_count = len([num for num in b if num > 0])\n",
    "negative_count = len([num for num in b if num < 0])\n",
    "\n",
    "print(f\"Positive count: {positive_count}, Negative count: {negative_count}\")\n"
   ]
  },
  {
   "cell_type": "code",
   "execution_count": 39,
   "id": "8f89fbb6-431b-4dc2-81e6-7069cfe0d0d0",
   "metadata": {},
   "outputs": [
    {
     "name": "stdout",
     "output_type": "stream",
     "text": [
      "List after removing elements: [10, 30, 50]\n"
     ]
    }
   ],
   "source": [
    "# 28.\tRemove multiple elements from a list in Python\n",
    "\n",
    "c = [10, 20, 30, 40, 50]\n",
    "\n",
    "elements_to_remove = [20, 40]\n",
    "\n",
    "c = [num for num in c if num not in elements_to_remove]\n",
    "\n",
    "print(\"List after removing elements:\", c)\n"
   ]
  },
  {
   "cell_type": "code",
   "execution_count": 40,
   "id": "40a159c3-325c-4291-b0c3-234264f14f2c",
   "metadata": {},
   "outputs": [
    {
     "name": "stdout",
     "output_type": "stream",
     "text": [
      "List after removing empty tuples: [(1, 2), (3, 4, 5)]\n"
     ]
    }
   ],
   "source": [
    "# 29.\tRemove empty tuples from a list\n",
    "\n",
    "a = [(), (1, 2), (), (3, 4, 5), ()]\n",
    "\n",
    "non_empty_tuples = [t for t in a if t]\n",
    "\n",
    "print(\"List after removing empty tuples:\", non_empty_tuples)\n"
   ]
  },
  {
   "cell_type": "code",
   "execution_count": 42,
   "id": "5dceaebf-b9bd-459d-8d72-10a4a6ed7c61",
   "metadata": {},
   "outputs": [
    {
     "name": "stdout",
     "output_type": "stream",
     "text": [
      "Duplicate numbers in the list: [2, 4]\n"
     ]
    }
   ],
   "source": [
    "# 30.\tProgram to print duplicates from a list of integers\n",
    "\n",
    "c = [1, 2, 2, 3, 4, 4, 5]\n",
    "\n",
    "duplicates = [num for num in set(c) if c.count(num) > 1]\n",
    "\n",
    "print(\"Duplicate numbers in the list:\", duplicates)\n"
   ]
  },
  {
   "cell_type": "code",
   "execution_count": null,
   "id": "35a0c5dc-aa11-4a4b-a2be-d00f508bc3c3",
   "metadata": {},
   "outputs": [],
   "source": []
  }
 ],
 "metadata": {
  "kernelspec": {
   "display_name": "Python 3 (ipykernel)",
   "language": "python",
   "name": "python3"
  },
  "language_info": {
   "codemirror_mode": {
    "name": "ipython",
    "version": 3
   },
   "file_extension": ".py",
   "mimetype": "text/x-python",
   "name": "python",
   "nbconvert_exporter": "python",
   "pygments_lexer": "ipython3",
   "version": "3.12.4"
  }
 },
 "nbformat": 4,
 "nbformat_minor": 5
}
