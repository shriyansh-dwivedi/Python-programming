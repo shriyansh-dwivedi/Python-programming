{
 "cells": [
  {
   "cell_type": "code",
   "execution_count": 1,
   "id": "a661e91c-eef3-4fdd-8127-5c3d70e380bf",
   "metadata": {},
   "outputs": [
    {
     "name": "stdout",
     "output_type": "stream",
     "text": [
      "Is Palindrome: True\n",
      "Is Symmetrical: False\n"
     ]
    }
   ],
   "source": [
    "# 1.Python program to check whether the string is Symmetrical or Palindrome\n",
    "\n",
    "A = \"madam\"\n",
    "\n",
    "is_palindrome = A == A[::-1]\n",
    "\n",
    "mid = len(A) // 2\n",
    "is_symmetrical = A[:mid] == A[-mid:]\n",
    "\n",
    "print(\"Is Palindrome:\", is_palindrome)\n",
    "print(\"Is Symmetrical:\", is_symmetrical)\n"
   ]
  },
  {
   "cell_type": "code",
   "execution_count": 2,
   "id": "cea5aaff-1e9e-40b3-8751-33e28238e443",
   "metadata": {},
   "outputs": [
    {
     "name": "stdout",
     "output_type": "stream",
     "text": [
      "Reversed words in the string: Python from world Hello\n"
     ]
    }
   ],
   "source": [
    "# 2.Reverse words in a given String in Python\n",
    "\n",
    "B = \"Hello world from Python\"\n",
    "\n",
    "reversed_words = ' '.join(B.split()[::-1])\n",
    "\n",
    "print(\"Reversed words in the string:\", reversed_words)\n"
   ]
  },
  {
   "cell_type": "code",
   "execution_count": 3,
   "id": "38944135-83c5-432d-a268-c0d4cb27526d",
   "metadata": {},
   "outputs": [
    {
     "name": "stdout",
     "output_type": "stream",
     "text": [
      "String after removing i-th character: HeloWorld\n"
     ]
    }
   ],
   "source": [
    "# 3.Ways to remove i’th character from string in Python\n",
    "\n",
    "C = \"HelloWorld\"\n",
    "\n",
    "i = 2\n",
    "\n",
    "removed_character_string = C[:i] + C[i+1:]\n",
    "\n",
    "print(\"String after removing i-th character:\", removed_character_string)\n"
   ]
  },
  {
   "cell_type": "code",
   "execution_count": 4,
   "id": "20f1950e-e346-441f-8b42-c966bd595999",
   "metadata": {},
   "outputs": [
    {
     "name": "stdout",
     "output_type": "stream",
     "text": [
      "Lengths: 11 11 11 11\n"
     ]
    }
   ],
   "source": [
    "# 4.Find length of a string in python (4 ways)\n",
    "\n",
    "D = \"Hello World\"\n",
    "\n",
    "length_1 = len(D)\n",
    "\n",
    "length_2 = 0\n",
    "for char in D:\n",
    "    length_2 += 1\n",
    "\n",
    "length_3 = ''.join(D).count('') - 1\n",
    "\n",
    "length_4 = sum(1 for _ in D)\n",
    "\n",
    "print(\"Lengths:\", length_1, length_2, length_3, length_4)\n"
   ]
  },
  {
   "cell_type": "code",
   "execution_count": 5,
   "id": "3038ea06-c1db-4e33-b66e-def581795231",
   "metadata": {},
   "outputs": [
    {
     "name": "stdout",
     "output_type": "stream",
     "text": [
      "Length without spaces: 10\n"
     ]
    }
   ],
   "source": [
    "# 5.Python – Avoid Spaces in string length\n",
    "\n",
    "F = \"Hello World\"\n",
    "\n",
    "length_no_spaces = len(F.replace(\" \", \"\"))\n",
    "\n",
    "print(\"Length without spaces:\", length_no_spaces)\n"
   ]
  },
  {
   "cell_type": "code",
   "execution_count": 6,
   "id": "cc7947df-209d-4b6b-9f32-1ac764e15bde",
   "metadata": {},
   "outputs": [
    {
     "name": "stdout",
     "output_type": "stream",
     "text": [
      "Even length words: ['Python', 'is']\n"
     ]
    }
   ],
   "source": [
    "# 6.Python program to print even length words in a string\n",
    "\n",
    "I = \"Python is fun and helpful\"\n",
    "\n",
    "even_length_words = [word for word in I.split() if len(word) % 2 == 0]\n",
    "\n",
    "print(\"Even length words:\", even_length_words)\n"
   ]
  },
  {
   "cell_type": "code",
   "execution_count": 7,
   "id": "13572b1c-a36f-4758-b98f-ca550d0ec59d",
   "metadata": {},
   "outputs": [
    {
     "name": "stdout",
     "output_type": "stream",
     "text": [
      "Uppercase half of the string: HELLOWorld\n"
     ]
    }
   ],
   "source": [
    "# 7.Python – Uppercase Half String\n",
    "\n",
    "K = \"HelloWorld\"\n",
    "\n",
    "mid = len(K) // 2\n",
    "uppercase_half = K[:mid].upper() + K[mid:]\n",
    "\n",
    "print(\"Uppercase half of the string:\", uppercase_half)\n"
   ]
  },
  {
   "cell_type": "code",
   "execution_count": 8,
   "id": "e08a75ab-5a2c-4884-ac87-ca6106ac2507",
   "metadata": {},
   "outputs": [
    {
     "name": "stdout",
     "output_type": "stream",
     "text": [
      "Capitalized first and last characters of each word: HellO WorlD FroM PythoN\n"
     ]
    }
   ],
   "source": [
    "# 8.Python program to capitalize the first and last character of each word in a string\n",
    "\n",
    "g = \"hello world from python\"\n",
    "\n",
    "capitalized_words = ' '.join(word[0].upper() + word[1:-1] + word[-1].upper() for word in g.split())\n",
    "\n",
    "print(\"Capitalized first and last characters of each word:\", capitalized_words)\n"
   ]
  },
  {
   "cell_type": "code",
   "execution_count": 9,
   "id": "a1aa85fc-b05b-4422-b0cd-a3e4479bb07c",
   "metadata": {},
   "outputs": [
    {
     "name": "stdout",
     "output_type": "stream",
     "text": [
      "Has at least one letter and one number: True\n"
     ]
    }
   ],
   "source": [
    "# 9.Python program to check if a string has at least one letter and one number\n",
    "\n",
    "j = \"Hello123\"\n",
    "\n",
    "has_letter = any(char.isalpha() for char in j)\n",
    "has_number = any(char.isdigit() for char in j)\n",
    "\n",
    "print(\"Has at least one letter and one number:\", has_letter and has_number)\n"
   ]
  },
  {
   "cell_type": "code",
   "execution_count": 10,
   "id": "971a2a91-0949-4e74-afec-fc5279fabf4c",
   "metadata": {},
   "outputs": [
    {
     "name": "stdout",
     "output_type": "stream",
     "text": [
      "Contains all vowels: True\n"
     ]
    }
   ],
   "source": [
    "# 10.Python Program to accept the strings which contains all vowels\n",
    "\n",
    "x = \"education\"\n",
    "\n",
    "vowels = set(\"aeiou\")\n",
    "contains_all_vowels = vowels <= set(x.lower())\n",
    "\n",
    "print(\"Contains all vowels:\", contains_all_vowels)\n"
   ]
  },
  {
   "cell_type": "code",
   "execution_count": 11,
   "id": "e92c979d-8b66-483d-b573-d9330fcfce26",
   "metadata": {},
   "outputs": [
    {
     "name": "stdout",
     "output_type": "stream",
     "text": [
      "Number of matching characters: 2\n"
     ]
    }
   ],
   "source": [
    "# 11.Python | Count the Number of matching characters in a pair of string\n",
    "\n",
    "y1 = \"hello\"\n",
    "y2 = \"world\"\n",
    "\n",
    "matching_count = sum(1 for char in set(y1) if char in y2)\n",
    "\n",
    "print(\"Number of matching characters:\", matching_count)\n"
   ]
  },
  {
   "cell_type": "code",
   "execution_count": 12,
   "id": "e505ffcb-5fc3-4264-804a-a47ee10ef3a2",
   "metadata": {},
   "outputs": [
    {
     "name": "stdout",
     "output_type": "stream",
     "text": [
      "Number of vowels in the string: 3\n"
     ]
    }
   ],
   "source": [
    "# 12.Python program to count number of vowels using sets in given string\n",
    "\n",
    "z = \"Hello World\"\n",
    "\n",
    "vowels = set(\"aeiouAEIOU\")\n",
    "vowel_count = sum(1 for char in z if char in vowels)\n",
    "\n",
    "print(\"Number of vowels in the string:\", vowel_count)\n"
   ]
  },
  {
   "cell_type": "code",
   "execution_count": 13,
   "id": "220b7f0f-b3b2-49b2-91ad-28ad2518e810",
   "metadata": {},
   "outputs": [
    {
     "name": "stdout",
     "output_type": "stream",
     "text": [
      "String after removing duplicates: Helo Wrd\n"
     ]
    }
   ],
   "source": [
    "# 13.Python Program to remove all duplicates from a given string\n",
    "\n",
    "d = \"Hello World\"\n",
    "\n",
    "unique_chars = ''.join(sorted(set(d), key=d.index))\n",
    "\n",
    "print(\"String after removing duplicates:\", unique_chars)\n"
   ]
  },
  {
   "cell_type": "code",
   "execution_count": 14,
   "id": "920c4a6d-7044-4df8-82c4-4176105b3712",
   "metadata": {},
   "outputs": [
    {
     "name": "stdout",
     "output_type": "stream",
     "text": [
      "Least frequent character: h\n"
     ]
    }
   ],
   "source": [
    "# 14.Python – Least Frequent Character in String\n",
    "\n",
    "E = \"hello world\"\n",
    "\n",
    "from collections import Counter\n",
    "frequency = Counter(E)\n",
    "least_frequent = min(frequency, key=frequency.get)\n",
    "\n",
    "print(\"Least frequent character:\", least_frequent)\n"
   ]
  },
  {
   "cell_type": "code",
   "execution_count": 15,
   "id": "9dafd5e4-f257-48c1-ad8d-f22ba9b64cb8",
   "metadata": {},
   "outputs": [
    {
     "name": "stdout",
     "output_type": "stream",
     "text": [
      "Maximum frequency character: l\n"
     ]
    }
   ],
   "source": [
    "# 15.Python | Maximum frequency character in String\n",
    "\n",
    "l = \"hello world\"\n",
    "\n",
    "frequency = Counter(l)\n",
    "max_frequency_char = max(frequency, key=frequency.get)\n",
    "\n",
    "print(\"Maximum frequency character:\", max_frequency_char)\n"
   ]
  },
  {
   "cell_type": "code",
   "execution_count": 16,
   "id": "c0301f4d-8795-4472-b483-c45aa4a1eecc",
   "metadata": {},
   "outputs": [
    {
     "name": "stdout",
     "output_type": "stream",
     "text": [
      "Characters with odd frequency: ['h', 'e', 'l', ' ', 'w', 'r', 'd']\n"
     ]
    }
   ],
   "source": [
    "# 16.Python – Odd Frequency Characters\n",
    "\n",
    "D = \"hello world\"\n",
    "\n",
    "frequency = Counter(D)\n",
    "\n",
    "odd_frequency_chars = [char for char, count in frequency.items() if count % 2 != 0]\n",
    "\n",
    "print(\"Characters with odd frequency:\", odd_frequency_chars)\n"
   ]
  },
  {
   "cell_type": "code",
   "execution_count": 17,
   "id": "3afbdaa9-6336-47bd-b04a-b0105d7fe226",
   "metadata": {},
   "outputs": [
    {
     "name": "stdout",
     "output_type": "stream",
     "text": [
      "Frequency of 'h' in the list: 3\n"
     ]
    }
   ],
   "source": [
    "# 17.Python – Specific Characters Frequency in String List\n",
    "\n",
    "string_list = [\"hello\", \"world\", \"hello\", \"python\"]\n",
    "specific_char = 'h'\n",
    "\n",
    "specific_char_frequency = sum(string.count(specific_char) for string in string_list)\n",
    "\n",
    "print(f\"Frequency of '{specific_char}' in the list:\", specific_char_frequency)\n"
   ]
  },
  {
   "cell_type": "code",
   "execution_count": 18,
   "id": "da7a6da6-d7df-4b91-8677-3e1a8b8121c0",
   "metadata": {},
   "outputs": [
    {
     "name": "stdout",
     "output_type": "stream",
     "text": [
      "Frequency of numbers in the string: Counter({'1': 2, '2': 2, '3': 2, '4': 1, '5': 1, '6': 1})\n"
     ]
    }
   ],
   "source": [
    "# 18.Python | Frequency of numbers in String\n",
    "\n",
    "x = \"123abc456123\"\n",
    "\n",
    "digit_frequency = Counter(filter(str.isdigit, x))\n",
    "\n",
    "print(\"Frequency of numbers in the string:\", digit_frequency)\n"
   ]
  },
  {
   "cell_type": "code",
   "execution_count": 19,
   "id": "9d4a5267-3b8c-4dbc-a074-38e19360dee9",
   "metadata": {},
   "outputs": [
    {
     "name": "stdout",
     "output_type": "stream",
     "text": [
      "Contains special character: True\n"
     ]
    }
   ],
   "source": [
    "# 19.Python | Program to check if a string contains any special character\n",
    "\n",
    "x = \"Hello@World!\"\n",
    "\n",
    "contains_special_char = any(not char.isalnum() and not char.isspace() for char in x)\n",
    "\n",
    "print(\"Contains special character:\", contains_special_char)\n"
   ]
  },
  {
   "cell_type": "code",
   "execution_count": 20,
   "id": "4e254865-579c-41dc-9f46-b630ec66bdd2",
   "metadata": {},
   "outputs": [
    {
     "name": "stdout",
     "output_type": "stream",
     "text": [
      "Generated the target string: abc\n"
     ]
    }
   ],
   "source": [
    "# 20.Generating random strings until a given string is generated\n",
    "\n",
    "import random\n",
    "import string\n",
    "\n",
    "target_string = \"abc\"\n",
    "\n",
    "random_string = ''.join(random.choices(string.ascii_lowercase, k=len(target_string)))\n",
    "\n",
    "while random_string != target_string:\n",
    "    random_string = ''.join(random.choices(string.ascii_lowercase, k=len(target_string)))\n",
    "\n",
    "print(\"Generated the target string:\", random_string)\n"
   ]
  },
  {
   "cell_type": "code",
   "execution_count": 21,
   "id": "87f09892-9809-4e51-a28b-a8c98d6efde5",
   "metadata": {},
   "outputs": [
    {
     "name": "stdout",
     "output_type": "stream",
     "text": [
      "Words longer than 3 characters: ['quick', 'brown', 'jumps', 'over', 'lazy']\n"
     ]
    }
   ],
   "source": [
    "# 21.Find words which are greater than given length k\n",
    "\n",
    "y = \"The quick brown fox jumps over the lazy dog\"\n",
    "k = 3\n",
    "\n",
    "longer_words = [word for word in y.split() if len(word) > k]\n",
    "\n",
    "print(f\"Words longer than {k} characters:\", longer_words)\n"
   ]
  },
  {
   "cell_type": "code",
   "execution_count": 23,
   "id": "241898df-1419-4a3f-8fd7-227fa6e7150b",
   "metadata": {},
   "outputs": [
    {
     "name": "stdout",
     "output_type": "stream",
     "text": [
      "String after removing i-th character: HeloWorld\n"
     ]
    }
   ],
   "source": [
    "# 22.Python program for removing i-th character from a string\n",
    "\n",
    "I = \"HelloWorld\"\n",
    "\n",
    "i = 2\n",
    "\n",
    "removed_character_string = I[:i] + I[i+1:]\n",
    "\n",
    "print(\"String after removing i-th character:\", removed_character_string)\n"
   ]
  },
  {
   "cell_type": "code",
   "execution_count": 24,
   "id": "927a8f42-28f4-4454-8e6b-338eacd1a92a",
   "metadata": {},
   "outputs": [
    {
     "name": "stdout",
     "output_type": "stream",
     "text": [
      "Joined string after split: Hello World\n"
     ]
    }
   ],
   "source": [
    "# 23.Python program to split and join a string\n",
    "\n",
    "z = \"Hello World\"\n",
    "\n",
    "split_string = z.split()\n",
    "joined_string = ' '.join(split_string)\n",
    "\n",
    "print(\"Joined string after split:\", joined_string)\n"
   ]
  },
  {
   "cell_type": "code",
   "execution_count": 25,
   "id": "7d889e87-a752-47fc-918a-e53f2bceca26",
   "metadata": {},
   "outputs": [
    {
     "name": "stdout",
     "output_type": "stream",
     "text": [
      "Is the string a binary string: True\n"
     ]
    }
   ],
   "source": [
    "# 24.Python | Check if a given string is binary string or not\n",
    "\n",
    "Z = \"1101010\"\n",
    "\n",
    "is_binary = all(char in '01' for char in Z)\n",
    "\n",
    "print(\"Is the string a binary string:\", is_binary)\n"
   ]
  },
  {
   "cell_type": "code",
   "execution_count": 26,
   "id": "b1cb4678-0a88-4e2a-942c-a5bec94c7979",
   "metadata": {},
   "outputs": [
    {
     "name": "stdout",
     "output_type": "stream",
     "text": [
      "Close matches: ['apple', 'aple', 'bpple']\n"
     ]
    }
   ],
   "source": [
    "# 25.Python | Find all close matches of input string from a list\n",
    "\n",
    "import difflib\n",
    "\n",
    "input_string = \"apple\"\n",
    "options = [\"aple\", \"apple\", \"bpple\", \"mango\"]\n",
    "\n",
    "close_matches = difflib.get_close_matches(input_string, options)\n",
    "\n",
    "print(\"Close matches:\", close_matches)\n"
   ]
  },
  {
   "cell_type": "code",
   "execution_count": 27,
   "id": "e6143adc-944c-4f11-a775-31721dc28da6",
   "metadata": {},
   "outputs": [
    {
     "name": "stdout",
     "output_type": "stream",
     "text": [
      "Uncommon words: {'python', 'hello'}\n"
     ]
    }
   ],
   "source": [
    "# 26.Python program to find uncommon words from two Strings\n",
    "\n",
    "A1 = \"hello world\"\n",
    "A2 = \"world python\"\n",
    "\n",
    "words1 = set(A1.split())\n",
    "words2 = set(A2.split())\n",
    "\n",
    "uncommon_words = (words1 - words2) | (words2 - words1)\n",
    "\n",
    "print(\"Uncommon words:\", uncommon_words)\n"
   ]
  },
  {
   "cell_type": "code",
   "execution_count": 30,
   "id": "13aafd35-b975-4370-bd97-be351b81ca34",
   "metadata": {},
   "outputs": [
    {
     "name": "stdout",
     "output_type": "stream",
     "text": [
      "String after swapping commas and dots: 1,23. 4,56. 7,89\n"
     ]
    }
   ],
   "source": [
    "# 27.Python | Swap commas and dots in a String\n",
    "\n",
    "b = \"1.23, 4.56, 7.89\"\n",
    "\n",
    "swapped_string = b.replace('.', 'temp').replace(',', '.').replace('temp', ',')\n",
    "\n",
    "print(\"String after swapping commas and dots:\", swapped_string)\n"
   ]
  },
  {
   "cell_type": "code",
   "execution_count": 31,
   "id": "dbafa653-84e3-44bb-a768-0293ea1cbd4e",
   "metadata": {},
   "outputs": [
    {
     "name": "stdout",
     "output_type": "stream",
     "text": [
      "Permutations of the string: ['abc', 'acb', 'bac', 'bca', 'cab', 'cba']\n"
     ]
    }
   ],
   "source": [
    "# 28.Python | Permutation of a given string using inbuilt function\n",
    "\n",
    "import itertools\n",
    "\n",
    "c = \"abc\"\n",
    "\n",
    "\n",
    "permutations = list(itertools.permutations(c))\n",
    "\n",
    "\n",
    "permuted_strings = [''.join(p) for p in permutations]\n",
    "\n",
    "print(\"Permutations of the string:\", permuted_strings)\n"
   ]
  },
  {
   "cell_type": "code",
   "execution_count": 32,
   "id": "1601710d-c094-4cec-9649-3bf20f982d7f",
   "metadata": {},
   "outputs": [
    {
     "name": "stdout",
     "output_type": "stream",
     "text": [
      "URLs found in the string: ['https://www.example.com']\n"
     ]
    }
   ],
   "source": [
    "# 29.Python | Check for URL in a String\n",
    "\n",
    "import re\n",
    "\n",
    "d = \"Visit us at https://www.example.com\"\n",
    "d\n",
    "url_pattern = r'(https?://[^\\s]+)'\n",
    "urls = re.findall(url_pattern, d)\n",
    "\n",
    "print(\"URLs found in the string:\", urls)\n"
   ]
  },
  {
   "cell_type": "code",
   "execution_count": 33,
   "id": "d9134934-1dba-47e2-badd-9b18e78c3ec1",
   "metadata": {},
   "outputs": [
    {
     "name": "stdout",
     "output_type": "stream",
     "text": [
      "Hello from the string of code!\n"
     ]
    }
   ],
   "source": [
    "# 30.Execute a String of Code in Python\n",
    "\n",
    "code_string = \"print('Hello from the string of code!')\"\n",
    "\n",
    "exec(code_string)\n"
   ]
  },
  {
   "cell_type": "code",
   "execution_count": 34,
   "id": "a061acd8-7e6d-4851-a7fe-3df2a6628b02",
   "metadata": {},
   "outputs": [
    {
     "name": "stdout",
     "output_type": "stream",
     "text": [
      "Converted numbers: [1, 3, 5, 7]\n"
     ]
    }
   ],
   "source": [
    "# 31.Python | Convert numeric words to numbers\n",
    "\n",
    "num_words = {\n",
    "    \"zero\": 0, \"one\": 1, \"two\": 2, \"three\": 3,\n",
    "    \"four\": 4, \"five\": 5, \"six\": 6, \"seven\": 7,\n",
    "    \"eight\": 8, \"nine\": 9, \"ten\": 10\n",
    "}\n",
    "\n",
    "\n",
    "T = \"one three five seven\"\n",
    "\n",
    "numbers = [num_words[word] for word in T.split() if word in num_words]\n",
    "\n",
    "print(\"Converted numbers:\", numbers)\n"
   ]
  },
  {
   "cell_type": "code",
   "execution_count": 35,
   "id": "2346631a-021d-4286-bdc7-9640b7803537",
   "metadata": {},
   "outputs": [
    {
     "name": "stdout",
     "output_type": "stream",
     "text": [
      "Locations of 'hello': [0, 2]\n"
     ]
    }
   ],
   "source": [
    "# 32.Python | Word location in String\n",
    "\n",
    "a = \"hello world hello python\"\n",
    "\n",
    "word_to_find = \"hello\"\n",
    "\n",
    "\n",
    "locations = [i for i, word in enumerate(a.split()) if word == word_to_find]\n",
    "\n",
    "print(f\"Locations of '{word_to_find}':\", locations)\n"
   ]
  },
  {
   "cell_type": "code",
   "execution_count": 36,
   "id": "7f67b72b-70c2-4e58-a4dc-e231b586c095",
   "metadata": {},
   "outputs": [
    {
     "name": "stdout",
     "output_type": "stream",
     "text": [
      "Consecutive characters frequency: {'a': 3, 'b': 2, 'c': 1, 'd': 1, 'e': 2}\n"
     ]
    }
   ],
   "source": [
    "# 33.Python | Consecutive characters frequency\n",
    "\n",
    "\n",
    "j = \"aaabbcdee\"\n",
    "\n",
    "\n",
    "consecutive_frequency = {}\n",
    "current_char = j[0]\n",
    "count = 1\n",
    "\n",
    "for char in j[1:]:\n",
    "    if char == current_char:\n",
    "        count += 1\n",
    "    else:\n",
    "        consecutive_frequency[current_char] = count\n",
    "        current_char = char\n",
    "        count = 1\n",
    "\n",
    "consecutive_frequency[current_char] = count  # For the last character\n",
    "\n",
    "print(\"Consecutive characters frequency:\", consecutive_frequency)\n"
   ]
  },
  {
   "cell_type": "code",
   "execution_count": 37,
   "id": "05464bd1-39d4-47f5-add2-ca40c09a885e",
   "metadata": {},
   "outputs": [
    {
     "name": "stdout",
     "output_type": "stream",
     "text": [
      "Rotated string: loWorldHel\n"
     ]
    }
   ],
   "source": [
    "# 34.String slicing in Python to rotate a string\n",
    "\n",
    "I = \"HelloWorld\"\n",
    "n = 3  # Number of rotations\n",
    "\n",
    "rotated_string = I[n:] + I[:n]\n",
    "\n",
    "print(\"Rotated string:\", rotated_string)\n"
   ]
  },
  {
   "cell_type": "code",
   "execution_count": 38,
   "id": "3da41880-6168-4d9d-9b08-584d792e3a5c",
   "metadata": {},
   "outputs": [
    {
     "name": "stdout",
     "output_type": "stream",
     "text": [
      "Can the string become empty by recursive deletion? True\n"
     ]
    }
   ],
   "source": [
    "# 35.String slicing in Python to check if a string can become empty by recursive deletion\n",
    "\n",
    "x = \"aabbcc\"\n",
    "\n",
    "while x:\n",
    "    found = False\n",
    "    for char in set(x):\n",
    "        if x.count(char) % 2 != 0:\n",
    "            found = True\n",
    "            break\n",
    "    if found:\n",
    "        break\n",
    "    x = x.replace(char * 2, '')\n",
    "\n",
    "can_become_empty = x == ''\n",
    "\n",
    "print(\"Can the string become empty by recursive deletion?\", can_become_empty)\n"
   ]
  },
  {
   "cell_type": "code",
   "execution_count": 39,
   "id": "6809b72b-e1e6-4bba-b8cb-0963137e5db4",
   "metadata": {},
   "outputs": [
    {
     "name": "stdout",
     "output_type": "stream",
     "text": [
      "Minimum number of rotations to obtain the actual string: 3\n"
     ]
    }
   ],
   "source": [
    "# 36.Python Program to find minimum number of rotations to obtain actual string\n",
    "\n",
    "original = \"hello\"\n",
    "rotated = \"lohel\"\n",
    "\n",
    "n = len(original)\n",
    "double_rotated = original + original\n",
    "\n",
    "min_rotations = double_rotated.find(rotated)\n",
    "\n",
    "print(\"Minimum number of rotations to obtain the actual string:\", min_rotations)\n"
   ]
  },
  {
   "cell_type": "code",
   "execution_count": 40,
   "id": "b1691511-763a-4d52-9a06-7b36b40e821f",
   "metadata": {},
   "outputs": [
    {
     "name": "stdout",
     "output_type": "stream",
     "text": [
      "Words frequency: {'hello': 2, 'world': 1, 'python': 1}\n"
     ]
    }
   ],
   "source": [
    "# 37.Python – Words Frequency in String Shorthands\n",
    "\n",
    "w = \"hello world hello python\"\n",
    "\n",
    "\n",
    "word_frequency = {}\n",
    "for word in w.split():\n",
    "    word_frequency[word] = word_frequency.get(word, 0) + 1\n",
    "\n",
    "print(\"Words frequency:\", word_frequency)\n"
   ]
  },
  {
   "cell_type": "code",
   "execution_count": 41,
   "id": "ca555bde-1aab-4878-9da7-7a2740fd4b8d",
   "metadata": {},
   "outputs": [
    {
     "name": "stdout",
     "output_type": "stream",
     "text": [
      "Successive characters frequency: {'a': [3], 'b': [2], 'c': [1], 'd': [1], 'e': [2]}\n"
     ]
    }
   ],
   "source": [
    "# 38.Python – Successive Characters Frequency\n",
    "\n",
    "W = \"aaabbcdee\"\n",
    "\n",
    "successive_frequency = {}\n",
    "current_char = W[0]\n",
    "count = 1\n",
    "\n",
    "for char in W[1:]:\n",
    "    if char == current_char:\n",
    "        count += 1\n",
    "    else:\n",
    "        successive_frequency[current_char] = successive_frequency.get(current_char, []) + [count]\n",
    "        current_char = char\n",
    "        count = 1\n",
    "\n",
    "successive_frequency[current_char] = successive_frequency.get(current_char, []) + [count]\n",
    "\n",
    "print(\"Successive characters frequency:\", successive_frequency)\n"
   ]
  },
  {
   "cell_type": "code",
   "execution_count": 42,
   "id": "0d078ebd-4a59-4572-9e83-785170f2d95d",
   "metadata": {},
   "outputs": [
    {
     "name": "stdout",
     "output_type": "stream",
     "text": [
      "Strings sorted by frequency of 'e': ['banana', 'apple', 'cherry', 'date', 'elderberry']\n"
     ]
    }
   ],
   "source": [
    "# 39.Python – Sort String list by K character frequency\n",
    "\n",
    "string_list = [\"apple\", \"banana\", \"cherry\", \"date\", \"elderberry\"]\n",
    "\n",
    "k = 'e'\n",
    "sorted_list = sorted(string_list, key=lambda x: x.count(k))\n",
    "\n",
    "print(f\"Strings sorted by frequency of '{k}':\", sorted_list)\n"
   ]
  },
  {
   "cell_type": "code",
   "execution_count": 43,
   "id": "7e609ac7-9769-408e-a4da-1faee49cc746",
   "metadata": {},
   "outputs": [
    {
     "name": "stdout",
     "output_type": "stream",
     "text": [
      "Converted to PascalCase: HelloWorldExample\n"
     ]
    }
   ],
   "source": [
    "# 40.Python – Convert Snake case to Pascal case\n",
    "\n",
    "snake_case_string = \"hello_world_example\"\n",
    "\n",
    "pascal_case_string = ''.join(word.capitalize() for word in snake_case_string.split('_'))\n",
    "\n",
    "print(\"Converted to PascalCase:\", pascal_case_string)\n"
   ]
  },
  {
   "cell_type": "code",
   "execution_count": 44,
   "id": "84d0b3a8-ada9-4595-8446-9a60acda31b9",
   "metadata": {},
   "outputs": [
    {
     "name": "stdout",
     "output_type": "stream",
     "text": [
      "String after avoiding last occurrence of delimiter: apple,banana,cherry\n"
     ]
    }
   ],
   "source": [
    "# 41.Python – Avoid Last occurrence of delimitter\n",
    "\n",
    "x = \"apple,banana,cherry,date\"\n",
    "\n",
    "result = x.rsplit(',', 1)\n",
    "\n",
    "print(\"String after avoiding last occurrence of delimiter:\", result[0])\n"
   ]
  },
  {
   "cell_type": "code",
   "execution_count": 45,
   "id": "559436bf-cbb4-4bbc-8742-10103a9bac87",
   "metadata": {},
   "outputs": [
    {
     "name": "stdout",
     "output_type": "stream",
     "text": [
      "Character position of the 1th word: 0\n"
     ]
    }
   ],
   "source": [
    "# 42.Python program to find the character position of Kth word from a list of strings\n",
    "\n",
    "strings = [\"hello world\", \"welcome to python\"]\n",
    "\n",
    "k = 1  # Kth word (1-based index)\n",
    "words = [word for string in strings for word in string.split()]\n",
    "\n",
    "if k <= len(words):\n",
    "    character_position = sum(len(words[i]) for i in range(k - 1)) + (k - 1)  # +1 for space between words\n",
    "else:\n",
    "    character_position = -1  # K is out of bounds\n",
    "\n",
    "print(f\"Character position of the {k}th word:\", character_position)\n"
   ]
  },
  {
   "cell_type": "code",
   "execution_count": 46,
   "id": "f227f5c1-6b83-458c-9dce-09b7ff12c041",
   "metadata": {},
   "outputs": [
    {
     "name": "stdout",
     "output_type": "stream",
     "text": [
      "Right shifted string: 9hell\n",
      "Left shifted string: .23, 4.56, 7.89h\n"
     ]
    }
   ],
   "source": [
    "# 43.Python – Right and Left Shift characters in String\n",
    "\n",
    "y = \"hello\"\n",
    "\n",
    "\n",
    "shifted_right = Sanchay[-1] + y[:-1]\n",
    "\n",
    "shifted_left = Sanchay[1:] + y[0]\n",
    "\n",
    "print(\"Right shifted string:\", shifted_right)\n",
    "print(\"Left shifted string:\", shifted_left)\n"
   ]
  },
  {
   "cell_type": "code",
   "execution_count": 47,
   "id": "413fe02a-fcaa-43cc-9c21-8723d28718c1",
   "metadata": {},
   "outputs": [
    {
     "name": "stdout",
     "output_type": "stream",
     "text": [
      "String after exceptional split: ['hello', 'world', 'python', 'example']\n"
     ]
    }
   ],
   "source": [
    "# 44.Python | Exceptional Split in String\n",
    "\n",
    "z = \"hello,world;python:example\"\n",
    "\n",
    "import re\n",
    "split_string = re.split(r'[;,:\\s]+', z)\n",
    "\n",
    "print(\"String after exceptional split:\", split_string)\n"
   ]
  },
  {
   "cell_type": "code",
   "execution_count": 48,
   "id": "dc1d33b3-cca5-40d0-999b-c05ccb2fc882",
   "metadata": {},
   "outputs": [
    {
     "name": "stdout",
     "output_type": "stream",
     "text": [
      "String split on vowels: ['h', 'll', ' w', 'rld']\n"
     ]
    }
   ],
   "source": [
    "# 45.Python – Split String on vowels\n",
    "\n",
    "Y = \"hello world\"\n",
    "\n",
    "split_on_vowels = re.split(r'[aeiou]', Y)\n",
    "\n",
    "print(\"String split on vowels:\", split_on_vowels)\n"
   ]
  },
  {
   "cell_type": "code",
   "execution_count": 49,
   "id": "5da52351-ed28-49d8-b78f-5a2dfdb912a9",
   "metadata": {},
   "outputs": [
    {
     "name": "stdout",
     "output_type": "stream",
     "text": [
      "Mirror image of the string: olleh\n"
     ]
    }
   ],
   "source": [
    "# 46.Python – Mirror Image of String\n",
    "\n",
    "Z = \"hello\"\n",
    "\n",
    "mirror_image = Z[::-1]\n",
    "\n",
    "print(\"Mirror image of the string:\", mirror_image)\n"
   ]
  },
  {
   "cell_type": "code",
   "execution_count": 50,
   "id": "c87194e3-d6f5-43e3-b6c5-a95329456309",
   "metadata": {},
   "outputs": [
    {
     "name": "stdout",
     "output_type": "stream",
     "text": [
      "String after replacement: I like fruits and fruits\n"
     ]
    }
   ],
   "source": [
    "# 47.Python – Replace multiple words with K\n",
    "\n",
    "A = \"I like apples and bananas\"\n",
    "words_to_replace = [\"apples\", \"bananas\"]\n",
    "replacement_word = \"fruits\"\n",
    "\n",
    "for word in words_to_replace:\n",
    "    A = A.replace(word, replacement_word)\n",
    "\n",
    "print(\"String after replacement:\", A)\n"
   ]
  },
  {
   "cell_type": "code",
   "execution_count": 51,
   "id": "33c6f12f-87f7-4aff-91ff-9da59cf4d74a",
   "metadata": {},
   "outputs": [
    {
     "name": "stdout",
     "output_type": "stream",
     "text": [
      "String after replacements: hello world\n"
     ]
    }
   ],
   "source": [
    "# 48.Python – Replace Different characters in String at Once\n",
    "\n",
    "b = \"hello world\"\n",
    "\n",
    "replacements = {'h': 'H', 'w': 'W'}\n",
    "\n",
    "for old_char, new_char in replacements.items():\n",
    "    Sanchay = Sanchay.replace(old_char, new_char)\n",
    "\n",
    "print(\"String after replacements:\", b)\n"
   ]
  },
  {
   "cell_type": "code",
   "execution_count": 53,
   "id": "5cf2152f-bf83-4f1a-a168-6af49d8aa5cf",
   "metadata": {},
   "outputs": [
    {
     "ename": "NameError",
     "evalue": "name 'l_list' is not defined",
     "output_type": "error",
     "traceback": [
      "\u001b[1;31m---------------------------------------------------------------------------\u001b[0m",
      "\u001b[1;31mNameError\u001b[0m                                 Traceback (most recent call last)",
      "Cell \u001b[1;32mIn[53], line 10\u001b[0m\n\u001b[0;32m      8\u001b[0m Sanchay_list \u001b[38;5;241m=\u001b[39m \u001b[38;5;28mlist\u001b[39m(l)\n\u001b[0;32m      9\u001b[0m \u001b[38;5;28;01mfor\u001b[39;00m index, new_char \u001b[38;5;129;01min\u001b[39;00m \u001b[38;5;28mzip\u001b[39m(indices_to_replace, replacement_chars):\n\u001b[1;32m---> 10\u001b[0m     l_list[index] \u001b[38;5;241m=\u001b[39m new_char\n\u001b[0;32m     12\u001b[0m replaced_string \u001b[38;5;241m=\u001b[39m \u001b[38;5;124m'\u001b[39m\u001b[38;5;124m'\u001b[39m\u001b[38;5;241m.\u001b[39mjoin(l_list)\n\u001b[0;32m     14\u001b[0m \u001b[38;5;28mprint\u001b[39m(\u001b[38;5;124m\"\u001b[39m\u001b[38;5;124mString after multiple index replacement:\u001b[39m\u001b[38;5;124m\"\u001b[39m, replaced_string)\n",
      "\u001b[1;31mNameError\u001b[0m: name 'l_list' is not defined"
     ]
    }
   ],
   "source": [
    "# 49.Python | Multiple indices Replace in String\n",
    "\n",
    "l = \"hello world\"\n",
    "\n",
    "indices_to_replace = [0, 6]  # Replace 'h' and 'w' with 'H' and 'W'\n",
    "replacement_chars = ['H', 'W']\n",
    "\n",
    "Sanchay_list = list(l)\n",
    "for index, new_char in zip(indices_to_replace, replacement_chars):\n",
    "    l_list[index] = new_char\n",
    "\n",
    "replaced_string = ''.join(l_list)\n",
    "\n",
    "print(\"String after multiple index replacement:\", replaced_string)\n"
   ]
  },
  {
   "cell_type": "code",
   "execution_count": 54,
   "id": "baee0f4a-a673-4852-bcdb-25d0d1c7e5a4",
   "metadata": {},
   "outputs": [
    {
     "name": "stdout",
     "output_type": "stream",
     "text": [
      "Strings after removing multiple empty spaces: ['hello world', 'python programming', 'spaces everywhere']\n"
     ]
    }
   ],
   "source": [
    "# 50.Python – Ways to remove multiple empty spaces from string List\n",
    "\n",
    "string_list = [\"hello  world\", \"python    programming\", \"   spaces   everywhere  \"]\n",
    "\n",
    "cleaned_list = [' '.join(string.split()) for string in string_list]\n",
    "\n",
    "print(\"Strings after removing multiple empty spaces:\", cleaned_list)\n"
   ]
  },
  {
   "cell_type": "code",
   "execution_count": 55,
   "id": "b36b2c89-dc67-4d0c-ae06-d62674d0c833",
   "metadata": {},
   "outputs": [
    {
     "name": "stdout",
     "output_type": "stream",
     "text": [
      "String after removing punctuation: 123 456 789\n"
     ]
    }
   ],
   "source": [
    "# 51.Python | Remove punctuation from string\n",
    "\n",
    "import string\n",
    "\n",
    "x = \"hello, world! Python programming.\"\n",
    "\n",
    "cleaned_string = Sanchay.translate(str.maketrans('', '', string.punctuation))\n",
    "\n",
    "print(\"String after removing punctuation:\", cleaned_string)\n"
   ]
  },
  {
   "cell_type": "code",
   "execution_count": 56,
   "id": "3400bf94-7bb1-40e5-99b7-0e18aea6a8d5",
   "metadata": {},
   "outputs": [
    {
     "name": "stdout",
     "output_type": "stream",
     "text": [
      "Do the strings have similar characters? True\n"
     ]
    }
   ],
   "source": [
    "# 52.Python – Similar characters Strings comparison\n",
    "\n",
    "W1 = \"aabbcc\"\n",
    "W2 = \"abcabc\"\n",
    "\n",
    "similarity = sorted(set(W1)) == sorted(set(W2))\n",
    "\n",
    "print(\"Do the strings have similar characters?\", similarity)\n"
   ]
  },
  {
   "cell_type": "code",
   "execution_count": 57,
   "id": "131254f7-af84-48be-bdb4-49d7e29f5e04",
   "metadata": {},
   "outputs": [
    {
     "name": "stdout",
     "output_type": "stream",
     "text": [
      "String after removing K length duplicates: abcabcde\n"
     ]
    }
   ],
   "source": [
    "# 53.Python – Remove K length Duplicates from String\n",
    "\n",
    "d = \"abcabcde\"\n",
    "\n",
    "K = 2\n",
    "\n",
    "seen = {}\n",
    "result = []\n",
    "for char in d:\n",
    "    if char not in seen:\n",
    "        seen[char] = 1\n",
    "        result.append(char)\n",
    "    elif seen[char] < K:\n",
    "        seen[char] += 1\n",
    "        result.append(char)\n",
    "\n",
    "final_string = ''.join(result)\n",
    "\n",
    "print(\"String after removing K length duplicates:\", final_string)\n"
   ]
  },
  {
   "cell_type": "code",
   "execution_count": 58,
   "id": "f218ec5a-ebc1-4751-8628-2c9d743f7756",
   "metadata": {},
   "outputs": [
    {
     "name": "stdout",
     "output_type": "stream",
     "text": [
      "Strings after removing suffix: ['example', 'document.pdf', 'presentation.pptx']\n"
     ]
    }
   ],
   "source": [
    "# 54.Python – Remove suffix from string list\n",
    "\n",
    "string_list = [\"example.txt\", \"document.pdf\", \"presentation.pptx\"]\n",
    "\n",
    "suffix = \".txt\"\n",
    "\n",
    "cleaned_list = [string[:-len(suffix)] if string.endswith(suffix) else string for string in string_list]\n",
    "\n",
    "print(\"Strings after removing suffix:\", cleaned_list)\n"
   ]
  },
  {
   "cell_type": "code",
   "execution_count": 59,
   "id": "7d73d592-72a8-45da-a04b-ffd5f51319f2",
   "metadata": {},
   "outputs": [
    {
     "name": "stdout",
     "output_type": "stream",
     "text": [
      "Duplicate characters in the string: {'l': 3, 'o': 2}\n"
     ]
    }
   ],
   "source": [
    "# 55.Python Counter| Find all duplicate characters in string\n",
    "\n",
    "from collections import Counter\n",
    "\n",
    "D = \"hello world\"\n",
    "\n",
    "char_count = Counter(D)\n",
    "\n",
    "duplicates = {char: count for char, count in char_count.items() if count > 1}\n",
    "\n",
    "print(\"Duplicate characters in the string:\", duplicates)\n"
   ]
  },
  {
   "cell_type": "code",
   "execution_count": 60,
   "id": "5b1095ec-50ad-4ea0-aaee-86843346199b",
   "metadata": {},
   "outputs": [
    {
     "name": "stdout",
     "output_type": "stream",
     "text": [
      "String after replacing duplicate occurrences: hello world REPLACED\n"
     ]
    }
   ],
   "source": [
    "# 56.Python – Replace duplicate Occurrence in String\n",
    "\n",
    "l = \"hello world hello\"\n",
    "\n",
    "words = l.split()\n",
    "seen = {}\n",
    "for i in range(len(words)):\n",
    "    if words[i] in seen:\n",
    "        words[i] = \"REPLACED\"\n",
    "    else:\n",
    "        seen[words[i]] = 1\n",
    "\n",
    "replaced_string = ' '.join(words)\n",
    "\n",
    "print(\"String after replacing duplicate occurrences:\", replaced_string)\n"
   ]
  },
  {
   "cell_type": "code",
   "execution_count": 61,
   "id": "e89cbd68-f186-4e1f-873d-469e55dbe7e6",
   "metadata": {},
   "outputs": [
    {
     "name": "stdout",
     "output_type": "stream",
     "text": [
      "Converted dictionary: {'key1': 'value1', 'key2': 'value2', 'key3': 'value3'}\n"
     ]
    }
   ],
   "source": [
    "# 57.Ways to convert string to dictionary\n",
    "\n",
    "x = \"key1=value1,key2=value2,key3=value3\"\n",
    "\n",
    "dict_converted = dict(item.split('=') for item in x.split(','))\n",
    "\n",
    "print(\"Converted dictionary:\", dict_converted)\n"
   ]
  },
  {
   "cell_type": "code",
   "execution_count": 62,
   "id": "34217f31-4e7c-4174-b38a-e91030ad3142",
   "metadata": {},
   "outputs": [
    {
     "name": "stdout",
     "output_type": "stream",
     "text": [
      "Are the strings rotationally equivalent? True\n"
     ]
    }
   ],
   "source": [
    "# 58.Python – Check if two strings are Rotationally Equivalent\n",
    "\n",
    "D1 = \"abcd\"\n",
    "D2 = \"cdab\"\n",
    "\n",
    "is_rotational = len(D1) == len(D2) and D2 in (D1 + D1)\n",
    "\n",
    "print(\"Are the strings rotationally equivalent?\", is_rotational)\n"
   ]
  },
  {
   "cell_type": "code",
   "execution_count": 63,
   "id": "fbf26882-68aa-4022-811a-a1e4425ad337",
   "metadata": {},
   "outputs": [
    {
     "name": "stdout",
     "output_type": "stream",
     "text": [
      "Is the first string a subset of the second? True\n"
     ]
    }
   ],
   "source": [
    "# 59.Python | Test if string is subset of another\n",
    "\n",
    "l1 = \"abc\"\n",
    "l2 = \"abcdefg\"\n",
    "\n",
    "is_subset = all(char in l2 for char in l1)\n",
    "\n",
    "print(\"Is the first string a subset of the second?\", is_subset)"
   ]
  },
  {
   "cell_type": "code",
   "execution_count": 64,
   "id": "25801e13-3252-4211-8253-2e4896a02bd0",
   "metadata": {},
   "outputs": [
    {
     "name": "stdout",
     "output_type": "stream",
     "text": [
      "Random binary string: 0100000011\n"
     ]
    }
   ],
   "source": [
    "# 60.Python Program to Generate Random binary string\n",
    "\n",
    "import random\n",
    "\n",
    "length = 10\n",
    "\n",
    "binary_string = ''.join(random.choice('01') for _ in range(length))\n",
    "\n",
    "print(\"Random binary string:\", binary_string)\n"
   ]
  },
  {
   "cell_type": "code",
   "execution_count": 65,
   "id": "684d5f24-0a02-41f3-9917-a37eef712bcb",
   "metadata": {},
   "outputs": [
    {
     "name": "stdout",
     "output_type": "stream",
     "text": [
      "Converted string: dom\n"
     ]
    }
   ],
   "source": [
    "# 61.Python Program to convert binary to string\n",
    "\n",
    "binary_string = \"1100100 1101111 1101101\"\n",
    "\n",
    "string_converted = ''.join(chr(int(b, 2)) for b in binary_string.split())\n",
    "\n",
    "print(\"Converted string:\", string_converted)\n"
   ]
  },
  {
   "cell_type": "code",
   "execution_count": 66,
   "id": "7309c529-5656-4773-a734-908bb10b4b3c",
   "metadata": {},
   "outputs": [
    {
     "name": "stdout",
     "output_type": "stream",
     "text": [
      "Reversed sorted string: wroolllhed \n"
     ]
    }
   ],
   "source": [
    "# 62.Python – Reverse Sort a String\n",
    "\n",
    "l = \"hello world\"\n",
    "\n",
    "reversed_sorted_string = ''.join(sorted(l, reverse=True))\n",
    "\n",
    "print(\"Reversed sorted string:\", reversed_sorted_string)\n"
   ]
  },
  {
   "cell_type": "code",
   "execution_count": null,
   "id": "5235d1f8-afde-4456-9a66-89d750eec2cf",
   "metadata": {},
   "outputs": [],
   "source": []
  }
 ],
 "metadata": {
  "kernelspec": {
   "display_name": "Python 3 (ipykernel)",
   "language": "python",
   "name": "python3"
  },
  "language_info": {
   "codemirror_mode": {
    "name": "ipython",
    "version": 3
   },
   "file_extension": ".py",
   "mimetype": "text/x-python",
   "name": "python",
   "nbconvert_exporter": "python",
   "pygments_lexer": "ipython3",
   "version": "3.12.4"
  }
 },
 "nbformat": 4,
 "nbformat_minor": 5
}
